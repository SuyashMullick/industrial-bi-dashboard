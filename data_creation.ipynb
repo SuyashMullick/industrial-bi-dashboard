{
 "cells": [
  {
   "cell_type": "code",
   "execution_count": 1,
   "id": "3c33a5af",
   "metadata": {},
   "outputs": [],
   "source": [
    "import pandas as pd\n",
    "import numpy as np\n",
    "from datetime import datetime, timedelta\n"
   ]
  },
  {
   "cell_type": "code",
   "execution_count": 2,
   "id": "63f63ebe",
   "metadata": {},
   "outputs": [],
   "source": [
    "# Config\n",
    "num_machines = 5\n",
    "duration_days = 1\n",
    "sampling_rate_minutes = 5\n",
    "\n",
    "# Time range\n",
    "timestamps = pd.date_range(\n",
    "    start=datetime.now() - timedelta(days=duration_days),\n",
    "    end=datetime.now(),\n",
    "    freq=f'{sampling_rate_minutes}min'\n",
    ")"
   ]
  },
  {
   "cell_type": "code",
   "execution_count": 3,
   "id": "0b36c4b8",
   "metadata": {},
   "outputs": [],
   "source": [
    "data = []\n",
    "for machine_id in range(1, num_machines + 1):\n",
    "    for ts in timestamps:\n",
    "        temp = np.random.normal(70, 5)\n",
    "        vib = np.random.normal(1.5, 0.3)\n",
    "        status = np.random.choice(['Running', 'Idle', 'Fault'], p=[0.7, 0.2, 0.1])\n",
    "        data.append([ts, machine_id, temp, vib, status])\n",
    "\n",
    "df = pd.DataFrame(data, columns=['timestamp', 'machine_id', 'temperature', 'vibration', 'status'])\n",
    "df.to_csv('data/sensor_data.csv', index=False)"
   ]
  }
 ],
 "metadata": {
  "kernelspec": {
   "display_name": "venv",
   "language": "python",
   "name": "python3"
  },
  "language_info": {
   "codemirror_mode": {
    "name": "ipython",
    "version": 3
   },
   "file_extension": ".py",
   "mimetype": "text/x-python",
   "name": "python",
   "nbconvert_exporter": "python",
   "pygments_lexer": "ipython3",
   "version": "3.13.3"
  }
 },
 "nbformat": 4,
 "nbformat_minor": 5
}
